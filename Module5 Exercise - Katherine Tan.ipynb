{
 "cells": [
  {
   "cell_type": "markdown",
   "metadata": {},
   "source": [
    "1. Round 4.5667 to the nearest hundreth using a build-in function, round()."
   ]
  },
  {
   "cell_type": "code",
   "execution_count": 1,
   "metadata": {},
   "outputs": [
    {
     "data": {
      "text/plain": [
       "4.57"
      ]
     },
     "execution_count": 1,
     "metadata": {},
     "output_type": "execute_result"
    }
   ],
   "source": [
    "round(4.5667, 2)"
   ]
  },
  {
   "cell_type": "markdown",
   "metadata": {},
   "source": [
    "2. Convert \"657\" to an integer data type"
   ]
  },
  {
   "cell_type": "code",
   "execution_count": 2,
   "metadata": {},
   "outputs": [
    {
     "data": {
      "text/plain": [
       "657"
      ]
     },
     "execution_count": 2,
     "metadata": {},
     "output_type": "execute_result"
    }
   ],
   "source": [
    "int(\"657\")"
   ]
  },
  {
   "cell_type": "markdown",
   "metadata": {},
   "source": [
    "3.\n",
    "Write a program to get two numbers from a user. Then, create a secret code where a code consists of 6 numbers and each number is randomly generated number between two numbers from a user. "
   ]
  },
  {
   "cell_type": "code",
   "execution_count": 3,
   "metadata": {},
   "outputs": [
    {
     "name": "stdout",
     "output_type": "stream",
     "text": [
      "Enter a number: 2\n",
      "Enter another number: 8\n",
      "The secret code: 888872\n"
     ]
    }
   ],
   "source": [
    "import random as rand\n",
    "imp1 = int(input(\"Enter a number: \"))\n",
    "imp2 = int(input(\"Enter another number: \"))\n",
    "no1 = rand.randint(imp1, imp2)\n",
    "no2 = rand.randint(imp1, imp2)\n",
    "no3 = rand.randint(imp1, imp2)\n",
    "no4 = rand.randint(imp1, imp2)\n",
    "no5 = rand.randint(imp1, imp2)\n",
    "no6 = rand.randint(imp1, imp2)\n",
    "\n",
    "print(\"The secret code: \", no1, no2, no3, no4, no5, no6, sep=\"\")"
   ]
  },
  {
   "cell_type": "markdown",
   "metadata": {},
   "source": [
    "4.\n",
    "Write a program to center align below text where number of characters per line is 40:\n",
    "\n",
    "    Hickory, dickory, dock,\n",
    "    The mouse ran up the clock.\n",
    "    The clock struck one,\n",
    "    The mouse ran down,\n",
    "    Hickory, dickory, dock\n",
    "\n",
    "<b>Do not use string's center method! </b>"
   ]
  },
  {
   "cell_type": "code",
   "execution_count": 4,
   "metadata": {},
   "outputs": [
    {
     "name": "stdout",
     "output_type": "stream",
     "text": [
      "        Hickory, dickory, dock,\n",
      "      The mouse ran up the clock.\n",
      "          The clock struck one,\n",
      "          The mouse ran down,\n",
      "         Hickory, dickory, dock\n"
     ]
    }
   ],
   "source": [
    "line1 = \"Hickory, dickory, dock,\"\n",
    "line2 = \"The mouse ran up the clock.\"\n",
    "line3 = \"The clock struck one,\"\n",
    "line4 = \"The mouse ran down,\"\n",
    "line5 = \"Hickory, dickory, dock\"\n",
    "\n",
    "max_characters = 40\n",
    "\n",
    "def leftover(line):\n",
    "    spaces = max_characters - len(line)\n",
    "    return spaces\n",
    "\n",
    "def beginning(spaces):\n",
    "    bno = spaces / 2\n",
    "    return bno\n",
    "\n",
    "def center(bno):\n",
    "    bspaces = \" \" * round(bno)\n",
    "    return bspaces\n",
    "\n",
    "spaces1 = leftover(line1)\n",
    "spaces2 = leftover(line2)\n",
    "spaces3 = leftover(line3)\n",
    "spaces4 = leftover(line4)\n",
    "spaces5 = leftover(line5)\n",
    "\n",
    "bno1 = beginning(spaces1)\n",
    "bno2 = beginning(spaces2)\n",
    "bno3 = beginning(spaces3)\n",
    "bno4 = beginning(spaces4)\n",
    "bno5 = beginning(spaces5)\n",
    "\n",
    "bspaces1 = center(bno1)\n",
    "bspaces2 = center(bno2)\n",
    "bspaces3 = center(bno3)\n",
    "bspaces4 = center(bno4)\n",
    "bspaces5 = center(bno5)\n",
    "\n",
    "print(bspaces1 + line1)\n",
    "print(bspaces2 + line2)\n",
    "print(bspaces3 + line3)\n",
    "print(bspaces4 + line4)\n",
    "print(bspaces5 + line5)"
   ]
  },
  {
   "cell_type": "markdown",
   "metadata": {},
   "source": [
    "5. Write a function to calculate the miles per gallon.\n",
    "Get a miles driven and gallons used from a user and call your function to calculate the miles per gallon. "
   ]
  },
  {
   "cell_type": "code",
   "execution_count": 5,
   "metadata": {},
   "outputs": [
    {
     "name": "stdout",
     "output_type": "stream",
     "text": [
      "How many miles have you driven? 8\n",
      "How many gallons have you used? 2\n",
      "Miles per gallon: 4.0\n"
     ]
    }
   ],
   "source": [
    "mi = int(input(\"How many miles have you driven? \"))\n",
    "g = int(input(\"How many gallons have you used? \"))\n",
    "\n",
    "def calc(mi, g):\n",
    "    per = mi / g\n",
    "    return per\n",
    "\n",
    "used = calc(mi, g)\n",
    "\n",
    "print(\"Miles per gallon:\", used)"
   ]
  },
  {
   "cell_type": "code",
   "execution_count": null,
   "metadata": {},
   "outputs": [],
   "source": []
  }
 ],
 "metadata": {
  "kernelspec": {
   "display_name": "Python 3",
   "language": "python",
   "name": "python3"
  },
  "language_info": {
   "codemirror_mode": {
    "name": "ipython",
    "version": 3
   },
   "file_extension": ".py",
   "mimetype": "text/x-python",
   "name": "python",
   "nbconvert_exporter": "python",
   "pygments_lexer": "ipython3",
   "version": "3.8.8"
  }
 },
 "nbformat": 4,
 "nbformat_minor": 4
}
